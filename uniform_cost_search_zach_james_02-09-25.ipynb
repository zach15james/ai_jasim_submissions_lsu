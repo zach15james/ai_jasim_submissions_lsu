{
 "cells": [
  {
   "cell_type": "code",
   "execution_count": null,
   "id": "2f30dcff",
   "metadata": {},
   "outputs": [
    {
     "name": "stdout",
     "output_type": "stream",
     "text": [
      "Minimum cost from 0 to 7 is 10\n",
      "Path: [0, 4, 5, 18, 6, 7]\n"
     ]
    }
   ],
   "source": [
    "# uniform cost function\n",
    "# returns the minimum cost and the path with minimum cost\n",
    "def  uniform_cost_search(start, goal, graph, cost):\n",
    "    answer = {node: {'cost': float('inf'), 'path': []} for node in goal}\n",
    "#     **************************************\n",
    "#     ******** Write your code here ********\n",
    "#     **************************************\n",
    "\n",
    "    # GitHub LINK #\n",
    "    # https://github.com/zach15james/ai_jasim_submissions_lsu/blob/main/uniform_cost_search_zach_james_02-09-25.ipynb\n",
    "    # GitHub LINK #\n",
    "    \n",
    "    # priority queue via list sorted by cost\n",
    "    pq = [(0, start, [start])] # (current_cost, current_node, path)\n",
    "\n",
    "    visited = {} # dictionary to track min cost of each node\n",
    "\n",
    "    while pq:\n",
    "        current_cost, current_node, path = pq.pop(0) # check next node\n",
    "\n",
    "        # skip if this node was visited at lower cost\n",
    "        if current_node in visited and visited[current_node] <= current_cost:\n",
    "            continue\n",
    "\n",
    "        visited[current_node] = current_cost # mark node as visited \n",
    "\n",
    "        # if answer reached, set as answer\n",
    "        if current_node in goal:\n",
    "            answer[current_node] = { 'cost': current_cost, 'path': path }\n",
    "        \n",
    "        # iterate through neighbor nodes and valid check, add it to the pq\n",
    "        for neighbor in graph[current_node]:\n",
    "            edge_cost = cost.get( (current_node, neighbor), float('inf') )\n",
    "\n",
    "            if neighbor not in visited or visited[neighbor] > (current_cost + edge_cost):\n",
    "                pq.append((current_cost + edge_cost, neighbor, path + [neighbor]))\n",
    "\n",
    "\n",
    "        pq.sort(key=lambda x: x[0]) # sort pq by cost again\n",
    "\n",
    "    return answer\n",
    " \n",
    "# main function\n",
    "if __name__ == '__main__':\n",
    "     \n",
    "    # create a graph with no more than 30 nodes\n",
    "    graph, cost = [[] for i in range(30)], {}\n",
    " \n",
    "    # add edges to the graph\n",
    "    graph[0].append(4)\n",
    "    graph[0].append(5)\n",
    "    graph[0].append(16)\n",
    "    graph[2].append(1)\n",
    "    graph[3].append(1)\n",
    "    graph[4].append(2)\n",
    "    graph[4].append(3)\n",
    "    graph[4].append(5)\n",
    "    graph[5].append(8)\n",
    "    graph[5].append(18)\n",
    "    graph[6].append(3)\n",
    "    graph[6].append(7)\n",
    "    graph[8].append(16)\n",
    "    graph[8].append(17)\n",
    "    graph[16].append(17)\n",
    "    graph[18].append(6)\n",
    "    \n",
    " \n",
    "    # add cost to each edge\n",
    "    cost[(0, 4)] = 3\n",
    "    cost[(0, 5)] = 9\n",
    "    cost[(0, 16)] = 1\n",
    "    cost[(2, 1)] = 2\n",
    "    cost[(3, 1)] = 2\n",
    "    cost[(4, 2)] = 1\n",
    "    cost[(4, 3)] = 8\n",
    "    cost[(4, 5)] = 2\n",
    "    cost[(5, 8)] = 3\n",
    "    cost[(5, 18)] = 2\n",
    "    cost[(6, 3)] = 3\n",
    "    cost[(6, 7)] = 2\n",
    "    cost[(8, 16)] = 4\n",
    "    cost[(8, 17)] = 4\n",
    "    cost[(16, 17)] = 15\n",
    "    cost[(18, 6)] = 1\n",
    "    \n",
    "    # set start state \n",
    "    start = 0\n",
    "    \n",
    "    # set goal state, there can be multiple goal states\n",
    "    goal = [7]\n",
    "    \n",
    "    # call uniform_search_cost function to get the minimum cost to reach the goal and the path with minumum cost\n",
    "    # ****** You have to implement this function *****\n",
    "    min_cost_info = uniform_cost_search(start, goal, graph, cost)\n",
    "\n",
    "    for node, info in min_cost_info.items():\n",
    "        print(f'Minimum cost from {start} to {node} is {info[\"cost\"]}')\n",
    "        print(f'Path: {info[\"path\"]}')"
   ]
  },
  {
   "cell_type": "raw",
   "id": "993a8459",
   "metadata": {
    "vscode": {
     "languageId": "raw"
    }
   },
   "source": [
    "#1 Solution:\n",
    "\n",
    "Action goal_based_agent(Percept percept)\n",
    "{ // goal_based_agent() // \n",
    "    // PERSISTENT VARS // \n",
    "    State state; // agents current conception of world state\n",
    "    Model model; // description of how next state depends on current state \n",
    "    Goal goal; // description of desired goal state \n",
    "    Plan plan = NULL; // most recent action, initially none \n",
    "    Action action = NULL; // init action\n",
    "    // PERSISTENT VARS //\n",
    "\n",
    "    update_state(state, percept);\n",
    "\n",
    "    if(plan == NULL) // plan is empty\n",
    "    { // i //\n",
    "        formulate_goal(&goal, state);\n",
    "        search_action_sequence(&plan, state, goal, model);\n",
    "    } // i //\n",
    "\n",
    "    if(plan != NULL) // plan not empty\n",
    "    { get_next_action_from_plan(&action, &plan); }\n",
    "    else { action = NULL; } // do nothing \n",
    "\n",
    "    return action; \n",
    "} // goal_based_agent() //"
   ]
  },
  {
   "cell_type": "raw",
   "id": "fc66e997",
   "metadata": {
    "vscode": {
     "languageId": "raw"
    }
   },
   "source": [
    "#2 Solution:\n",
    "- State Space: cities (in same country)... S = (a,b), s.t. a := city friend A is located at, and b := city friend B is located at\n",
    "- Initial State: starting cities; S_0 = (s_1, s_2), s_2, s_2 := starting cities of friends A and B, respectively \n",
    "- Goal State: A & B meet (same city); G = {(g,g) | g any city in network, a == b, and d(a,b) == 0 } where d(i,j) := distance between cities i & j\n",
    "- Actions: A&B, driving (or not); cost_of_action( (a,b), (a',b') ) := max( d(a,a'), d(b, b') ) = max of longer of the two times\n",
    "- Transition Model: city-to-city drive by A & B to adjacent cities (or no move), simultaneously; \n",
    "                    S' = { (a',b') | a' in neighboring_cities(a), b' in neighboring_cities(b) or a',b' = NULL (no move) }\n",
    "\n"
   ]
  }
 ],
 "metadata": {
  "kernelspec": {
   "display_name": "db_class",
   "language": "python",
   "name": "python3"
  },
  "language_info": {
   "codemirror_mode": {
    "name": "ipython",
    "version": 3
   },
   "file_extension": ".py",
   "mimetype": "text/x-python",
   "name": "python",
   "nbconvert_exporter": "python",
   "pygments_lexer": "ipython3",
   "version": "3.12.7"
  }
 },
 "nbformat": 4,
 "nbformat_minor": 5
}
